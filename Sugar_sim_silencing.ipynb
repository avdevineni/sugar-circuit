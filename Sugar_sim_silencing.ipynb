{
 "cells": [
  {
   "cell_type": "markdown",
   "metadata": {},
   "source": [
    "# This notebook performs activation of sugar GRNs on the left along with bilateral silencing of downstream sugar neurons, both individually and in various combinations. \n",
    "\n",
    "## Code in this notebook is adapted from code from Philip Shiu (see https://github.com/philshiu/Drosophila_brain_model)."
   ]
  },
  {
   "cell_type": "code",
   "execution_count": 1,
   "metadata": {},
   "outputs": [
    {
     "name": "stderr",
     "output_type": "stream",
     "text": [
      "INFO       Cache size for target 'cython': 1301231437 MB.\n",
      "You can call clear_cache('cython') to delete all files from the cache or manually delete files in the '/Users/anitadevineni/Library/Caches/cython/brian_extensions' directory. [brian2]\n"
     ]
    }
   ],
   "source": [
    "from model import run_exp\n",
    "from model import default_params as params\n",
    "import utils as utl\n",
    "import pandas\n",
    "from brian2 import Hz\n",
    "\n",
    "config = {\n",
    "    'path_res'  : './results/example',                              # directory to store results\n",
    "    'path_comp' : './2023_03_23_completeness_630_final.csv',        # csv of the complete list of Flywire neurons\n",
    "    'path_con'  : './2023_03_23_connectivity_630_final.parquet',    # connectivity data\n",
    "    'n_proc'    : -1,                                               # number of CPU cores (-1: use all)\n",
    "}"
   ]
  },
  {
   "cell_type": "markdown",
   "metadata": {},
   "source": [
    "## Underlying connectivity data\n",
    "The connectivity of the fly brain is stored in the folowing files:\n",
    "- neurons present: `config['path_comp']`\n",
    "- connectivity between neurons: `config['path_con]`\n",
    "\n",
    "## Model parameters\n",
    "The equation and constants for the leaky integrate and fire model are defined \n",
    "in the dictionary `default_params` in the beginning of the file `model.py`:\n",
    "\n",
    "```\n",
    "default_params = {\n",
    "    # trials\n",
    "    't_run'     : 1000 * ms,              # duration of trial\n",
    "    'n_run'     : 30,                     # number of runs\n",
    "\n",
    "    'v_0'       : -52 * mV,               # resting potential\n",
    "    'v_rst'     : -52 * mV,               # reset potential after spike\n",
    "    [...]\n",
    "```\n",
    "We can also change values\n",
    "and pass the modified dictionary to the model (see Experiment 1).\n",
    "\n",
    "## Define neurons"
   ]
  },
  {
   "cell_type": "code",
   "execution_count": 2,
   "metadata": {},
   "outputs": [],
   "source": [
    "# Define sugar-sensing neurons in left hemisphere \n",
    "# (same ones as Shiu paper but they called it right; brain flip was discovered later)\n",
    "\n",
    "neu_sugar_L = [\n",
    "    720575940624963786,\n",
    "    720575940630233916,\n",
    "    720575940637568838,\n",
    "    720575940638202345,\n",
    "    720575940617000768,\n",
    "    720575940630797113,\n",
    "    720575940632889389,\n",
    "    720575940621754367,\n",
    "    720575940621502051,\n",
    "    720575940640649691,\n",
    "    720575940639332736,\n",
    "    720575940616885538,\n",
    "    720575940639198653,\n",
    "    720575940620900446,\n",
    "    720575940617937543,\n",
    "    720575940632425919,\n",
    "    720575940633143833,\n",
    "    720575940612670570,\n",
    "    720575940628853239,\n",
    "    720575940629176663,\n",
    "    720575940611875570,\n",
    "]\n"
   ]
  },
  {
   "cell_type": "markdown",
   "metadata": {},
   "source": [
    "Define a mapping from the flywire IDs to custom names. The above neurons are called sugar_1, sugar_2 etc:"
   ]
  },
  {
   "cell_type": "code",
   "execution_count": 3,
   "metadata": {},
   "outputs": [
    {
     "data": {
      "text/plain": [
       "{720575940624963786: 'sugar_L_1',\n",
       " 720575940630233916: 'sugar_L_2',\n",
       " 720575940637568838: 'sugar_L_3',\n",
       " 720575940638202345: 'sugar_L_4',\n",
       " 720575940617000768: 'sugar_L_5',\n",
       " 720575940630797113: 'sugar_L_6',\n",
       " 720575940632889389: 'sugar_L_7',\n",
       " 720575940621754367: 'sugar_L_8',\n",
       " 720575940621502051: 'sugar_L_9',\n",
       " 720575940640649691: 'sugar_L_10',\n",
       " 720575940639332736: 'sugar_L_11',\n",
       " 720575940616885538: 'sugar_L_12',\n",
       " 720575940639198653: 'sugar_L_13',\n",
       " 720575940620900446: 'sugar_L_14',\n",
       " 720575940617937543: 'sugar_L_15',\n",
       " 720575940632425919: 'sugar_L_16',\n",
       " 720575940633143833: 'sugar_L_17',\n",
       " 720575940612670570: 'sugar_L_18',\n",
       " 720575940628853239: 'sugar_L_19',\n",
       " 720575940629176663: 'sugar_L_20',\n",
       " 720575940611875570: 'sugar_L_21'}"
      ]
     },
     "execution_count": 3,
     "metadata": {},
     "output_type": "execute_result"
    }
   ],
   "source": [
    "flyid2name = { f: 'sugar_L_{}'.format(i+1) for i, f in enumerate(neu_sugar_L) }\n",
    "flyid2name"
   ]
  },
  {
   "cell_type": "code",
   "execution_count": 4,
   "metadata": {},
   "outputs": [],
   "source": [
    "# Define other neurons\n",
    "\n",
    "id_zorro_L = 720575940629888530\n",
    "id_rattle_L = 720575940638103349\n",
    "id_fmin_L = 720575940614763666\n",
    "id_clavicle_L = 720575940655014049\n",
    "id_usnea_L = 720575940632648612\n",
    "id_phantom_L = 720575940616103218\n",
    "id_g2n_L = 720575940620874757\n",
    "id_fdg_L = 720575940631997032\n",
    "id_bract1_L = 720575940645045527\n",
    "id_bract2_L = 720575940610001220\n",
    "id_roundup_L = 720575940623211725\n",
    "\n",
    "id_foxglove_L = 720575940628755815\n",
    "id_bluebell_L = 720575940631168057\n",
    "id_mn9_L = 720575940645521262\n",
    "\n",
    "\n",
    "id_zorro_R = 720575940611015122\n",
    "id_rattle_R = 720575940630461660\n",
    "id_fmin_R = 720575940636675214\n",
    "id_clavicle_R = 720575940632648868\n",
    "id_usnea_R = 720575940641366517\n",
    "id_phantom_R = 720575940637763135\n",
    "id_g2n_R = 720575940623718380\n",
    "id_fdg_R = 720575940647030324\n",
    "id_bract1_R = 720575940626557442\n",
    "id_bract2_R = 720575940627285267\n",
    "id_roundup_R = 720575940607272649\n",
    "\n",
    "id_foxglove_R = 720575940611160930\n",
    "id_bluebell_R = 720575940635166571\n",
    "id_mn9_R = 720575940660219265"
   ]
  },
  {
   "cell_type": "markdown",
   "metadata": {},
   "source": [
    "# Running simulations\n",
    "## Background info:\n",
    "To run a simulation exciting these nerons we have to call `run_exp` supplying the following:\n",
    "- unique name for the simulation: `exp_name`\n",
    "- a list of neurons we want to stimulate: `neu_sugar`\n",
    "- the connectivity data: `config['path_comp']` and `config['path_con]`\n",
    "- path to store the output: `config['path_res']`\n",
    "- number of CPU cores use: `config['n_procs]`\n",
    "\n",
    "The `.parquet` file created during a simulation contains all spikes events of all neurons in the model.\n",
    "We load the data again from disk by passing a list of result files to the `utl.load_exps` function.\n",
    "\n",
    "The spike times can be converted to spike rates [Hz] via `utl.get_rate`, which requires the duration of each trial.\n",
    "`utl.get_rate` returns `pandas.DataFrame` objects:\n",
    "1. spike rate for each neuron (rows) in each experiment (column): `df_rate`\n",
    "2. standard deviation of rate across trials: `df_rate_std`\n",
    "\n",
    "For convenience, we can optionally pass the `flyid2name` dictionary to `utl.get_rate` in order to convert flywire IDs into\n",
    "meaningful names."
   ]
  },
  {
   "cell_type": "code",
   "execution_count": 5,
   "metadata": {},
   "outputs": [
    {
     "data": {
      "text/plain": [
       "{'t_run': 1. * second,\n",
       " 'n_run': 30,\n",
       " 'v_0': -52. * mvolt,\n",
       " 'v_rst': -52. * mvolt,\n",
       " 'v_th': -45. * mvolt,\n",
       " 't_mbr': 20. * msecond,\n",
       " 'tau': 5. * msecond,\n",
       " 't_rfc': 2.2 * msecond,\n",
       " 't_dly': 1.8 * msecond,\n",
       " 'w_syn': 275. * uvolt,\n",
       " 'r_poi': 150. * hertz,\n",
       " 'r_poi2': 0. * hertz,\n",
       " 'f_poi': 250,\n",
       " 'eqs': '\\ndv/dt = (v_0 - v + g) / t_mbr : volt (unless refractory)\\ndg/dt = -g / tau               : volt (unless refractory) \\nrfc                            : second\\n',\n",
       " 'eq_th': 'v > v_th',\n",
       " 'eq_rst': 'v = v_rst; w = 0; g = 0 * mV'}"
      ]
     },
     "execution_count": 5,
     "metadata": {},
     "output_type": "execute_result"
    }
   ],
   "source": [
    "#show default params\n",
    "params"
   ]
  },
  {
   "cell_type": "markdown",
   "metadata": {},
   "source": [
    "## Define a function to activate specified neurons and silence various neurons, and extract the firing rates from another list of neurons.\n",
    "## Currently you can only activate one set of neurons at a time."
   ]
  },
  {
   "cell_type": "code",
   "execution_count": 6,
   "metadata": {},
   "outputs": [],
   "source": [
    "def run_simulation_silencing(params, neurons_to_activate, neurons_to_silence, neurons_to_record, silencing_names, record_names, prefix, ctrl_filename, savepath):\n",
    "\n",
    "    #run experiment\n",
    "    for id in neurons_to_silence: # go through each neuron\n",
    "        ind = neurons_to_silence.index(id) # get index\n",
    "        name = silencing_names[ind] #\n",
    "        prefix2 = prefix + '{}'\n",
    "        run_exp(exp_name=prefix2.format(name), neu_exc=neurons_to_activate, neu_slnc=id, params=params, **config)\n",
    "        \n",
    "    # load data into a dataframe\n",
    "\n",
    "    filelist = [ctrl_filename] # activating sugar neurons alone\n",
    "    for id in neurons_to_silence: \n",
    "        ind = neurons_to_silence.index(id)\n",
    "        name = silencing_names[ind]\n",
    "        datafilename = './results/example/' + prefix + name + '.parquet'\n",
    "        filelist.append(datafilename)\n",
    "    \n",
    "    df_spike = utl.load_exps(filelist)\n",
    "    df_rate, df_rate_std = utl.get_rate(df_spike, t_run=params['t_run'], n_run=params['n_run'], flyid2name=flyid2name)\n",
    "\n",
    "\n",
    "    \n",
    "    # get dataframe of rates for all neurons and all conditions\n",
    "\n",
    "    rates = []\n",
    "    rates_std = []\n",
    "\n",
    "    for neuron in neurons_to_record:\n",
    "        rates.append(df_rate.loc[neuron])\n",
    "        rates_std.append(df_rate_std.loc[neuron])\n",
    "    \n",
    "    rates = pandas.DataFrame(rates) # convert to dataframe\n",
    "    rates_std = pandas.DataFrame(rates_std) # convert to dataframe\n",
    "\n",
    "    rates = rates.assign(name=record_names)\n",
    "    rates_std = rates_std.assign(name=record_names)\n",
    "    \n",
    "    # save dataframes to csv\n",
    "    df_rate.fillna(0).to_csv(savepath + prefix + 'allrates.csv')\n",
    "    df_rate_std.fillna(0).to_csv(savepath + prefix + 'allrates_std.csv')\n",
    "    rates.to_csv(savepath + prefix + 'rates.csv')\n",
    "    rates_std.to_csv(savepath + prefix + 'rates_std.csv')\n",
    "\n",
    "    return df_rate, df_rate_std, rates, rates_std"
   ]
  },
  {
   "cell_type": "markdown",
   "metadata": {},
   "source": [
    "## Run simulations multiple times: stimulate at diff frequencies while silencing each type of downstream sugar neuron bilaterally."
   ]
  },
  {
   "cell_type": "code",
   "execution_count": 7,
   "metadata": {},
   "outputs": [],
   "source": [
    "# list of neuron ids - this is a reference for all expts\n",
    "\n",
    "ids_2N_L = [id_zorro_L, id_rattle_L, id_fmin_L, id_clavicle_L, id_usnea_L, id_phantom_L, id_g2n_L]\n",
    "ids_2N_R = [id_zorro_R, id_rattle_R, id_fmin_R, id_clavicle_R, id_usnea_R, id_phantom_R, id_g2n_R]\n",
    "names_2N = ['zorro','rattle','fmin','clavicle','usnea','phantom','g2n']\n",
    "\n",
    "ids_3N_L = [id_fdg_L, id_bract1_L, id_bract2_L]\n",
    "ids_3N_R = [id_fdg_R, id_bract1_R, id_bract2_R]\n",
    "names_3N = ['fdg','bract1','bract2']\n",
    "\n",
    "ids_4N_L = [id_roundup_L, id_foxglove_L, id_bluebell_L]\n",
    "ids_4N_R = [id_roundup_R, id_foxglove_R, id_bluebell_R]\n",
    "names_4N = ['roundup','foxglove','bluebell']\n",
    "\n",
    "motor_ids_L = [id_mn9_L]\n",
    "motor_ids_R = [id_mn9_R]\n",
    "names_motor = ['MN9']\n",
    "\n",
    "# neurons to silence\n",
    "ids_L = [id_zorro_L, id_rattle_L, id_fmin_L, id_clavicle_L, id_usnea_L, id_phantom_L, id_g2n_L, id_fdg_L, id_bract1_L,id_bract2_L, id_roundup_L]\n",
    "ids_R = [id_zorro_R, id_rattle_R, id_fmin_R, id_clavicle_R, id_usnea_R, id_phantom_R, id_g2n_R, id_fdg_R, id_bract1_R,id_bract2_R, id_roundup_R]\n",
    "neuron_names = ['zorro','rattle','fmin','clavicle','usnea','phantom','g2n','fdg','bract1','bract2','roundup']\n",
    "\n",
    "# list of neurons to record in all expts - here only recording neurons on left side\n",
    "neurons_to_record = [id_zorro_L, id_rattle_L, id_fmin_L, id_clavicle_L, id_usnea_L, id_phantom_L, id_g2n_L, id_fdg_L, id_bract1_L,id_bract2_L, id_roundup_L, id_foxglove_L, id_bluebell_L, id_mn9_L]\n",
    "record_names = ['zorro','rattle','fmin','clavicle','usnea','phantom','g2n','fdg','bract1','bract2','roundup','foxglove','bluebell','MN9']"
   ]
  },
  {
   "cell_type": "markdown",
   "metadata": {},
   "source": [
    "\n",
    "## Silence each type of neuron individually."
   ]
  },
  {
   "cell_type": "code",
   "execution_count": 8,
   "metadata": {},
   "outputs": [
    {
     "name": "stdout",
     "output_type": "stream",
     "text": [
      ">>> Skipping experiment sugarR_25Hz because results/example/sugarR_25Hz.parquet exists and force_overwrite = False\n"
     ]
    }
   ],
   "source": [
    "# Do the control condition for 25 Hz, since it hasn't been previously done\n",
    "\n",
    "# activate sugar sensing neurons at 25 Hz\n",
    "params['r_poi'] = 25 * Hz\n",
    "run_exp(exp_name='sugarR_25Hz', neu_exc=neu_sugar_L, params=params, **config)"
   ]
  },
  {
   "cell_type": "code",
   "execution_count": 9,
   "metadata": {},
   "outputs": [],
   "source": [
    "neurons_to_silence = []\n",
    "for entry in ids_L: # go through L list\n",
    "    ind = ids_L.index(entry) # get index\n",
    "    entry2 = ids_R[ind] # find same element in R list\n",
    "    neurons_to_silence.append([entry, entry2])"
   ]
  },
  {
   "cell_type": "code",
   "execution_count": 10,
   "metadata": {},
   "outputs": [
    {
     "name": "stdout",
     "output_type": "stream",
     "text": [
      ">>> Skipping experiment bilat_silenc_50Hz_zorro because results/example/bilat_silenc_50Hz_zorro.parquet exists and force_overwrite = False\n",
      ">>> Skipping experiment bilat_silenc_50Hz_rattle because results/example/bilat_silenc_50Hz_rattle.parquet exists and force_overwrite = False\n",
      ">>> Skipping experiment bilat_silenc_50Hz_fmin because results/example/bilat_silenc_50Hz_fmin.parquet exists and force_overwrite = False\n",
      ">>> Skipping experiment bilat_silenc_50Hz_clavicle because results/example/bilat_silenc_50Hz_clavicle.parquet exists and force_overwrite = False\n",
      ">>> Skipping experiment bilat_silenc_50Hz_usnea because results/example/bilat_silenc_50Hz_usnea.parquet exists and force_overwrite = False\n",
      ">>> Skipping experiment bilat_silenc_50Hz_phantom because results/example/bilat_silenc_50Hz_phantom.parquet exists and force_overwrite = False\n",
      ">>> Skipping experiment bilat_silenc_50Hz_g2n because results/example/bilat_silenc_50Hz_g2n.parquet exists and force_overwrite = False\n",
      ">>> Skipping experiment bilat_silenc_50Hz_fdg because results/example/bilat_silenc_50Hz_fdg.parquet exists and force_overwrite = False\n",
      ">>> Skipping experiment bilat_silenc_50Hz_bract1 because results/example/bilat_silenc_50Hz_bract1.parquet exists and force_overwrite = False\n",
      ">>> Skipping experiment bilat_silenc_50Hz_bract2 because results/example/bilat_silenc_50Hz_bract2.parquet exists and force_overwrite = False\n",
      ">>> Skipping experiment bilat_silenc_50Hz_roundup because results/example/bilat_silenc_50Hz_roundup.parquet exists and force_overwrite = False\n",
      ">>> Skipping experiment bilat_silenc_100Hz_zorro because results/example/bilat_silenc_100Hz_zorro.parquet exists and force_overwrite = False\n",
      ">>> Skipping experiment bilat_silenc_100Hz_rattle because results/example/bilat_silenc_100Hz_rattle.parquet exists and force_overwrite = False\n",
      ">>> Skipping experiment bilat_silenc_100Hz_fmin because results/example/bilat_silenc_100Hz_fmin.parquet exists and force_overwrite = False\n",
      ">>> Skipping experiment bilat_silenc_100Hz_clavicle because results/example/bilat_silenc_100Hz_clavicle.parquet exists and force_overwrite = False\n",
      ">>> Skipping experiment bilat_silenc_100Hz_usnea because results/example/bilat_silenc_100Hz_usnea.parquet exists and force_overwrite = False\n",
      ">>> Skipping experiment bilat_silenc_100Hz_phantom because results/example/bilat_silenc_100Hz_phantom.parquet exists and force_overwrite = False\n",
      ">>> Skipping experiment bilat_silenc_100Hz_g2n because results/example/bilat_silenc_100Hz_g2n.parquet exists and force_overwrite = False\n",
      ">>> Skipping experiment bilat_silenc_100Hz_fdg because results/example/bilat_silenc_100Hz_fdg.parquet exists and force_overwrite = False\n",
      ">>> Skipping experiment bilat_silenc_100Hz_bract1 because results/example/bilat_silenc_100Hz_bract1.parquet exists and force_overwrite = False\n",
      ">>> Skipping experiment bilat_silenc_100Hz_bract2 because results/example/bilat_silenc_100Hz_bract2.parquet exists and force_overwrite = False\n",
      ">>> Skipping experiment bilat_silenc_100Hz_roundup because results/example/bilat_silenc_100Hz_roundup.parquet exists and force_overwrite = False\n",
      ">>> Skipping experiment bilat_silenc_200Hz_zorro because results/example/bilat_silenc_200Hz_zorro.parquet exists and force_overwrite = False\n",
      ">>> Skipping experiment bilat_silenc_200Hz_rattle because results/example/bilat_silenc_200Hz_rattle.parquet exists and force_overwrite = False\n",
      ">>> Skipping experiment bilat_silenc_200Hz_fmin because results/example/bilat_silenc_200Hz_fmin.parquet exists and force_overwrite = False\n",
      ">>> Skipping experiment bilat_silenc_200Hz_clavicle because results/example/bilat_silenc_200Hz_clavicle.parquet exists and force_overwrite = False\n",
      ">>> Skipping experiment bilat_silenc_200Hz_usnea because results/example/bilat_silenc_200Hz_usnea.parquet exists and force_overwrite = False\n",
      ">>> Skipping experiment bilat_silenc_200Hz_phantom because results/example/bilat_silenc_200Hz_phantom.parquet exists and force_overwrite = False\n",
      ">>> Skipping experiment bilat_silenc_200Hz_g2n because results/example/bilat_silenc_200Hz_g2n.parquet exists and force_overwrite = False\n",
      ">>> Skipping experiment bilat_silenc_200Hz_fdg because results/example/bilat_silenc_200Hz_fdg.parquet exists and force_overwrite = False\n",
      ">>> Skipping experiment bilat_silenc_200Hz_bract1 because results/example/bilat_silenc_200Hz_bract1.parquet exists and force_overwrite = False\n",
      ">>> Skipping experiment bilat_silenc_200Hz_bract2 because results/example/bilat_silenc_200Hz_bract2.parquet exists and force_overwrite = False\n",
      ">>> Skipping experiment bilat_silenc_200Hz_roundup because results/example/bilat_silenc_200Hz_roundup.parquet exists and force_overwrite = False\n"
     ]
    }
   ],
   "source": [
    "# Set params and run simulation\n",
    "# Note this code threw a bug when doing 25 Hz - do it separately in the cell below\n",
    "\n",
    "neurons_to_activate = neu_sugar_L\n",
    "silencing_names = neuron_names\n",
    "\n",
    "for stim_rate in [50, 100, 200]: \n",
    "    \n",
    "    params['r_poi'] = stim_rate * Hz\n",
    "    prefix = 'bilat_silenc_' + str(stim_rate) + 'Hz_'\n",
    "    ctrl_filename = './results/example/sugarR_' + str(stim_rate) + 'Hz.parquet' # this is GRN activation only\n",
    "    savepath = 'results/' + str(stim_rate) + 'Hz bilat silencing/'\n",
    "    \n",
    "    run_simulation_silencing(params, neurons_to_activate, neurons_to_silence, neurons_to_record, silencing_names, record_names, prefix, ctrl_filename, savepath)    "
   ]
  },
  {
   "cell_type": "code",
   "execution_count": 11,
   "metadata": {},
   "outputs": [],
   "source": [
    "# have to do it differently for 25Hz since it doesn't activate all the neurons on our list - combine with 50Hz\n",
    "\n",
    "stim_rate = 25\n",
    "\n",
    "prefix = 'bilat_silenc_' + str(stim_rate) + 'Hz_'\n",
    "ctrl_filename = './results/example/sugarR_' + str(stim_rate) + 'Hz.parquet' # this is GRN activation only\n",
    "ctrl_filename2 = './results/example/sugarR_' + str(50) + 'Hz.parquet' # this is GRN activation only\n",
    "savepath = 'results/' + str(stim_rate) + 'Hz bilat silencing/'\n",
    "\n",
    "filelist = [ctrl_filename,ctrl_filename2] # activating sugar neurons alone\n",
    "for id in neurons_to_silence: \n",
    "    ind = neurons_to_silence.index(id)\n",
    "    name = silencing_names[ind]\n",
    "    datafilename = './results/example/' + prefix + name + '.parquet'\n",
    "    filelist.append(datafilename)\n",
    "    \n",
    "df_spike = utl.load_exps(filelist)\n",
    "df_rate, df_rate_std = utl.get_rate(df_spike, t_run=params['t_run'], n_run=params['n_run'], flyid2name=flyid2name)\n",
    "\n",
    "\n",
    "rates = []\n",
    "rates_std = []\n",
    "\n",
    "for neuron in neurons_to_record:\n",
    "    rates.append(df_rate.loc[neuron])\n",
    "    rates_std.append(df_rate_std.loc[neuron])\n",
    "    \n",
    "rates = pandas.DataFrame(rates) # convert to dataframe\n",
    "rates_std = pandas.DataFrame(rates_std) # convert to dataframe\n",
    "\n",
    "rates = rates.assign(name=record_names)\n",
    "rates_std = rates_std.assign(name=record_names)\n",
    "    \n",
    "# save dataframes to csv\n",
    "df_rate.fillna(0).to_csv(savepath + prefix + 'allrates.csv')\n",
    "df_rate_std.fillna(0).to_csv(savepath + prefix + 'allrates_std.csv')\n",
    "rates.to_csv(savepath + prefix + 'rates.csv')\n",
    "rates_std.to_csv(savepath + prefix + 'rates_std.csv')"
   ]
  },
  {
   "cell_type": "markdown",
   "metadata": {},
   "source": [
    "## Silence pairs of 2Ns"
   ]
  },
  {
   "cell_type": "code",
   "execution_count": 12,
   "metadata": {},
   "outputs": [],
   "source": [
    "# make list of all pairs of second-order neurons, bilaterally\n",
    "from itertools import combinations\n",
    "\n",
    "# make list of neurons\n",
    "pairs_2Ns_L = list(combinations(ids_2N_L, 2))\n",
    "pairs_2Ns_R = list(combinations(ids_2N_R, 2))\n",
    "\n",
    "pairs_2Ns = []\n",
    "for entry in pairs_2Ns_L: # go through L list\n",
    "    ind = pairs_2Ns_L.index(entry) # get index\n",
    "    entry2 = pairs_2Ns_R[ind] # find same element in R list\n",
    "    pairs_2Ns.append(list(entry + entry2))\n",
    "    \n",
    "# make list of names\n",
    "pairs_2Ns_names_list = list(combinations(names_2N,2))\n",
    "pairs_2Ns_names = []\n",
    "for entry in pairs_2Ns_names_list:\n",
    "    pairs_2Ns_names.append('_'.join(entry))"
   ]
  },
  {
   "cell_type": "code",
   "execution_count": 13,
   "metadata": {},
   "outputs": [
    {
     "name": "stdout",
     "output_type": "stream",
     "text": [
      ">>> Skipping experiment bilat_silenc_combo50Hz_zorro_rattle because results/example/bilat_silenc_combo50Hz_zorro_rattle.parquet exists and force_overwrite = False\n",
      ">>> Skipping experiment bilat_silenc_combo50Hz_zorro_fmin because results/example/bilat_silenc_combo50Hz_zorro_fmin.parquet exists and force_overwrite = False\n",
      ">>> Skipping experiment bilat_silenc_combo50Hz_zorro_clavicle because results/example/bilat_silenc_combo50Hz_zorro_clavicle.parquet exists and force_overwrite = False\n",
      ">>> Skipping experiment bilat_silenc_combo50Hz_zorro_usnea because results/example/bilat_silenc_combo50Hz_zorro_usnea.parquet exists and force_overwrite = False\n",
      ">>> Skipping experiment bilat_silenc_combo50Hz_zorro_phantom because results/example/bilat_silenc_combo50Hz_zorro_phantom.parquet exists and force_overwrite = False\n",
      ">>> Skipping experiment bilat_silenc_combo50Hz_zorro_g2n because results/example/bilat_silenc_combo50Hz_zorro_g2n.parquet exists and force_overwrite = False\n",
      ">>> Skipping experiment bilat_silenc_combo50Hz_rattle_fmin because results/example/bilat_silenc_combo50Hz_rattle_fmin.parquet exists and force_overwrite = False\n",
      ">>> Skipping experiment bilat_silenc_combo50Hz_rattle_clavicle because results/example/bilat_silenc_combo50Hz_rattle_clavicle.parquet exists and force_overwrite = False\n",
      ">>> Skipping experiment bilat_silenc_combo50Hz_rattle_usnea because results/example/bilat_silenc_combo50Hz_rattle_usnea.parquet exists and force_overwrite = False\n",
      ">>> Skipping experiment bilat_silenc_combo50Hz_rattle_phantom because results/example/bilat_silenc_combo50Hz_rattle_phantom.parquet exists and force_overwrite = False\n",
      ">>> Skipping experiment bilat_silenc_combo50Hz_rattle_g2n because results/example/bilat_silenc_combo50Hz_rattle_g2n.parquet exists and force_overwrite = False\n",
      ">>> Skipping experiment bilat_silenc_combo50Hz_fmin_clavicle because results/example/bilat_silenc_combo50Hz_fmin_clavicle.parquet exists and force_overwrite = False\n",
      ">>> Skipping experiment bilat_silenc_combo50Hz_fmin_usnea because results/example/bilat_silenc_combo50Hz_fmin_usnea.parquet exists and force_overwrite = False\n",
      ">>> Skipping experiment bilat_silenc_combo50Hz_fmin_phantom because results/example/bilat_silenc_combo50Hz_fmin_phantom.parquet exists and force_overwrite = False\n",
      ">>> Skipping experiment bilat_silenc_combo50Hz_fmin_g2n because results/example/bilat_silenc_combo50Hz_fmin_g2n.parquet exists and force_overwrite = False\n",
      ">>> Skipping experiment bilat_silenc_combo50Hz_clavicle_usnea because results/example/bilat_silenc_combo50Hz_clavicle_usnea.parquet exists and force_overwrite = False\n",
      ">>> Skipping experiment bilat_silenc_combo50Hz_clavicle_phantom because results/example/bilat_silenc_combo50Hz_clavicle_phantom.parquet exists and force_overwrite = False\n",
      ">>> Skipping experiment bilat_silenc_combo50Hz_clavicle_g2n because results/example/bilat_silenc_combo50Hz_clavicle_g2n.parquet exists and force_overwrite = False\n",
      ">>> Skipping experiment bilat_silenc_combo50Hz_usnea_phantom because results/example/bilat_silenc_combo50Hz_usnea_phantom.parquet exists and force_overwrite = False\n",
      ">>> Skipping experiment bilat_silenc_combo50Hz_usnea_g2n because results/example/bilat_silenc_combo50Hz_usnea_g2n.parquet exists and force_overwrite = False\n",
      ">>> Skipping experiment bilat_silenc_combo50Hz_phantom_g2n because results/example/bilat_silenc_combo50Hz_phantom_g2n.parquet exists and force_overwrite = False\n",
      ">>> Skipping experiment bilat_silenc_combo100Hz_zorro_rattle because results/example/bilat_silenc_combo100Hz_zorro_rattle.parquet exists and force_overwrite = False\n",
      ">>> Skipping experiment bilat_silenc_combo100Hz_zorro_fmin because results/example/bilat_silenc_combo100Hz_zorro_fmin.parquet exists and force_overwrite = False\n",
      ">>> Skipping experiment bilat_silenc_combo100Hz_zorro_clavicle because results/example/bilat_silenc_combo100Hz_zorro_clavicle.parquet exists and force_overwrite = False\n",
      ">>> Skipping experiment bilat_silenc_combo100Hz_zorro_usnea because results/example/bilat_silenc_combo100Hz_zorro_usnea.parquet exists and force_overwrite = False\n",
      ">>> Skipping experiment bilat_silenc_combo100Hz_zorro_phantom because results/example/bilat_silenc_combo100Hz_zorro_phantom.parquet exists and force_overwrite = False\n",
      ">>> Skipping experiment bilat_silenc_combo100Hz_zorro_g2n because results/example/bilat_silenc_combo100Hz_zorro_g2n.parquet exists and force_overwrite = False\n",
      ">>> Skipping experiment bilat_silenc_combo100Hz_rattle_fmin because results/example/bilat_silenc_combo100Hz_rattle_fmin.parquet exists and force_overwrite = False\n",
      ">>> Skipping experiment bilat_silenc_combo100Hz_rattle_clavicle because results/example/bilat_silenc_combo100Hz_rattle_clavicle.parquet exists and force_overwrite = False\n",
      ">>> Skipping experiment bilat_silenc_combo100Hz_rattle_usnea because results/example/bilat_silenc_combo100Hz_rattle_usnea.parquet exists and force_overwrite = False\n",
      ">>> Skipping experiment bilat_silenc_combo100Hz_rattle_phantom because results/example/bilat_silenc_combo100Hz_rattle_phantom.parquet exists and force_overwrite = False\n",
      ">>> Skipping experiment bilat_silenc_combo100Hz_rattle_g2n because results/example/bilat_silenc_combo100Hz_rattle_g2n.parquet exists and force_overwrite = False\n",
      ">>> Skipping experiment bilat_silenc_combo100Hz_fmin_clavicle because results/example/bilat_silenc_combo100Hz_fmin_clavicle.parquet exists and force_overwrite = False\n",
      ">>> Skipping experiment bilat_silenc_combo100Hz_fmin_usnea because results/example/bilat_silenc_combo100Hz_fmin_usnea.parquet exists and force_overwrite = False\n",
      ">>> Skipping experiment bilat_silenc_combo100Hz_fmin_phantom because results/example/bilat_silenc_combo100Hz_fmin_phantom.parquet exists and force_overwrite = False\n",
      ">>> Skipping experiment bilat_silenc_combo100Hz_fmin_g2n because results/example/bilat_silenc_combo100Hz_fmin_g2n.parquet exists and force_overwrite = False\n",
      ">>> Skipping experiment bilat_silenc_combo100Hz_clavicle_usnea because results/example/bilat_silenc_combo100Hz_clavicle_usnea.parquet exists and force_overwrite = False\n",
      ">>> Skipping experiment bilat_silenc_combo100Hz_clavicle_phantom because results/example/bilat_silenc_combo100Hz_clavicle_phantom.parquet exists and force_overwrite = False\n",
      ">>> Skipping experiment bilat_silenc_combo100Hz_clavicle_g2n because results/example/bilat_silenc_combo100Hz_clavicle_g2n.parquet exists and force_overwrite = False\n",
      ">>> Skipping experiment bilat_silenc_combo100Hz_usnea_phantom because results/example/bilat_silenc_combo100Hz_usnea_phantom.parquet exists and force_overwrite = False\n",
      ">>> Skipping experiment bilat_silenc_combo100Hz_usnea_g2n because results/example/bilat_silenc_combo100Hz_usnea_g2n.parquet exists and force_overwrite = False\n",
      ">>> Skipping experiment bilat_silenc_combo100Hz_phantom_g2n because results/example/bilat_silenc_combo100Hz_phantom_g2n.parquet exists and force_overwrite = False\n"
     ]
    }
   ],
   "source": [
    "# Set params and run simulation\n",
    "\n",
    "neurons_to_activate = neu_sugar_L\n",
    "neurons_to_silence = pairs_2Ns\n",
    "silencing_names = pairs_2Ns_names\n",
    "\n",
    "# focusing on only 50 and 100 Hz\n",
    "for stim_rate in [50, 100]:\n",
    "    \n",
    "    params['r_poi'] = stim_rate * Hz\n",
    "    prefix = 'bilat_silenc_combo' + str(stim_rate) + 'Hz_'\n",
    "    ctrl_filename = './results/example/sugarR_' + str(stim_rate) + 'Hz.parquet' # this is GRN activation only\n",
    "    savepath = 'results/' + str(stim_rate) + 'Hz bilat silencing combo/'\n",
    "    \n",
    "    run_simulation_silencing(params, neurons_to_activate, neurons_to_silence, neurons_to_record, silencing_names, record_names, prefix, ctrl_filename, savepath)    "
   ]
  },
  {
   "cell_type": "markdown",
   "metadata": {},
   "source": [
    "## Silence Fdg + individual 2Ns"
   ]
  },
  {
   "cell_type": "code",
   "execution_count": 14,
   "metadata": {},
   "outputs": [],
   "source": [
    "neurons_to_silence = []\n",
    "silencing_names = []\n",
    "for entry in ids_2N_L: # go through L list\n",
    "    ind = ids_2N_L.index(entry) # get index\n",
    "    entry2 = ids_2N_R[ind] # find same element in R list\n",
    "    name = names_2N[ind]\n",
    "    neurons_to_silence.append([id_fdg_L, id_fdg_R, entry, entry2])\n",
    "    silencing_names.append(name + '_fdg')"
   ]
  },
  {
   "cell_type": "code",
   "execution_count": 15,
   "metadata": {},
   "outputs": [
    {
     "name": "stdout",
     "output_type": "stream",
     "text": [
      ">>> Skipping experiment bilat_silenc_combo50Hz_zorro_fdg because results/example/bilat_silenc_combo50Hz_zorro_fdg.parquet exists and force_overwrite = False\n",
      ">>> Skipping experiment bilat_silenc_combo50Hz_rattle_fdg because results/example/bilat_silenc_combo50Hz_rattle_fdg.parquet exists and force_overwrite = False\n",
      ">>> Skipping experiment bilat_silenc_combo50Hz_fmin_fdg because results/example/bilat_silenc_combo50Hz_fmin_fdg.parquet exists and force_overwrite = False\n",
      ">>> Skipping experiment bilat_silenc_combo50Hz_clavicle_fdg because results/example/bilat_silenc_combo50Hz_clavicle_fdg.parquet exists and force_overwrite = False\n",
      ">>> Skipping experiment bilat_silenc_combo50Hz_usnea_fdg because results/example/bilat_silenc_combo50Hz_usnea_fdg.parquet exists and force_overwrite = False\n",
      ">>> Skipping experiment bilat_silenc_combo50Hz_phantom_fdg because results/example/bilat_silenc_combo50Hz_phantom_fdg.parquet exists and force_overwrite = False\n",
      ">>> Skipping experiment bilat_silenc_combo50Hz_g2n_fdg because results/example/bilat_silenc_combo50Hz_g2n_fdg.parquet exists and force_overwrite = False\n",
      ">>> Skipping experiment bilat_silenc_combo100Hz_zorro_fdg because results/example/bilat_silenc_combo100Hz_zorro_fdg.parquet exists and force_overwrite = False\n",
      ">>> Skipping experiment bilat_silenc_combo100Hz_rattle_fdg because results/example/bilat_silenc_combo100Hz_rattle_fdg.parquet exists and force_overwrite = False\n",
      ">>> Skipping experiment bilat_silenc_combo100Hz_fmin_fdg because results/example/bilat_silenc_combo100Hz_fmin_fdg.parquet exists and force_overwrite = False\n",
      ">>> Skipping experiment bilat_silenc_combo100Hz_clavicle_fdg because results/example/bilat_silenc_combo100Hz_clavicle_fdg.parquet exists and force_overwrite = False\n",
      ">>> Skipping experiment bilat_silenc_combo100Hz_usnea_fdg because results/example/bilat_silenc_combo100Hz_usnea_fdg.parquet exists and force_overwrite = False\n",
      ">>> Skipping experiment bilat_silenc_combo100Hz_phantom_fdg because results/example/bilat_silenc_combo100Hz_phantom_fdg.parquet exists and force_overwrite = False\n",
      ">>> Skipping experiment bilat_silenc_combo100Hz_g2n_fdg because results/example/bilat_silenc_combo100Hz_g2n_fdg.parquet exists and force_overwrite = False\n"
     ]
    }
   ],
   "source": [
    "# Set params and run simulation\n",
    "\n",
    "neurons_to_activate = neu_sugar_L\n",
    "\n",
    "# focusing on only 50 and 100 Hz\n",
    "for stim_rate in [50, 100]: \n",
    "    \n",
    "    params['r_poi'] = stim_rate * Hz\n",
    "    prefix = 'bilat_silenc_combo' + str(stim_rate) + 'Hz_'\n",
    "    ctrl_filename = './results/example/sugarR_' + str(stim_rate) + 'Hz.parquet' # this is GRN activation only\n",
    "    savepath = 'results/' + str(stim_rate) + 'Hz bilat silencing combo2/'\n",
    "    \n",
    "    run_simulation_silencing(params, neurons_to_activate, neurons_to_silence, neurons_to_record, silencing_names, record_names, prefix, ctrl_filename, savepath)    "
   ]
  },
  {
   "cell_type": "markdown",
   "metadata": {},
   "source": [
    "## Silence all possible sets of three 2Ns (excitatory 2Ns only)."
   ]
  },
  {
   "cell_type": "code",
   "execution_count": 16,
   "metadata": {},
   "outputs": [],
   "source": [
    "ids_2N_exc_L = [id_zorro_L, id_rattle_L, id_fmin_L, id_clavicle_L, id_g2n_L]\n",
    "ids_2N_exc_R = [id_zorro_R, id_rattle_R, id_fmin_R, id_clavicle_R, id_g2n_R]\n",
    "names_2N_exc = ['zorro','rattle','fmin','clavicle','g2n']\n",
    "\n",
    "# make list of all triplets of second-order neurons, bilaterally\n",
    "\n",
    "# make list of neurons\n",
    "triplets_2Ns_L = list(combinations(ids_2N_exc_L, 3))\n",
    "triplets_2Ns_R = list(combinations(ids_2N_exc_R, 3))\n",
    "\n",
    "triplets_2Ns = []\n",
    "for entry in triplets_2Ns_L: # go through L list\n",
    "    ind = triplets_2Ns_L.index(entry) # get index\n",
    "    entry2 = triplets_2Ns_R[ind] # find same element in R list\n",
    "    triplets_2Ns.append(list(entry + entry2))\n",
    "    \n",
    "# make list of names\n",
    "triplets_2Ns_names_list = list(combinations(names_2N_exc,3))\n",
    "triplets_2Ns_names = []\n",
    "for entry in triplets_2Ns_names_list:\n",
    "    triplets_2Ns_names.append('_'.join(entry))\n"
   ]
  },
  {
   "cell_type": "code",
   "execution_count": 17,
   "metadata": {},
   "outputs": [
    {
     "name": "stdout",
     "output_type": "stream",
     "text": [
      ">>> Skipping experiment bilat_silenc_combo50Hz_zorro_rattle_fmin because results/example/bilat_silenc_combo50Hz_zorro_rattle_fmin.parquet exists and force_overwrite = False\n",
      ">>> Skipping experiment bilat_silenc_combo50Hz_zorro_rattle_clavicle because results/example/bilat_silenc_combo50Hz_zorro_rattle_clavicle.parquet exists and force_overwrite = False\n",
      ">>> Skipping experiment bilat_silenc_combo50Hz_zorro_rattle_g2n because results/example/bilat_silenc_combo50Hz_zorro_rattle_g2n.parquet exists and force_overwrite = False\n",
      ">>> Skipping experiment bilat_silenc_combo50Hz_zorro_fmin_clavicle because results/example/bilat_silenc_combo50Hz_zorro_fmin_clavicle.parquet exists and force_overwrite = False\n",
      ">>> Skipping experiment bilat_silenc_combo50Hz_zorro_fmin_g2n because results/example/bilat_silenc_combo50Hz_zorro_fmin_g2n.parquet exists and force_overwrite = False\n",
      ">>> Skipping experiment bilat_silenc_combo50Hz_zorro_clavicle_g2n because results/example/bilat_silenc_combo50Hz_zorro_clavicle_g2n.parquet exists and force_overwrite = False\n",
      ">>> Skipping experiment bilat_silenc_combo50Hz_rattle_fmin_clavicle because results/example/bilat_silenc_combo50Hz_rattle_fmin_clavicle.parquet exists and force_overwrite = False\n",
      ">>> Skipping experiment bilat_silenc_combo50Hz_rattle_fmin_g2n because results/example/bilat_silenc_combo50Hz_rattle_fmin_g2n.parquet exists and force_overwrite = False\n",
      ">>> Skipping experiment bilat_silenc_combo50Hz_rattle_clavicle_g2n because results/example/bilat_silenc_combo50Hz_rattle_clavicle_g2n.parquet exists and force_overwrite = False\n",
      ">>> Skipping experiment bilat_silenc_combo50Hz_fmin_clavicle_g2n because results/example/bilat_silenc_combo50Hz_fmin_clavicle_g2n.parquet exists and force_overwrite = False\n",
      ">>> Skipping experiment bilat_silenc_combo100Hz_zorro_rattle_fmin because results/example/bilat_silenc_combo100Hz_zorro_rattle_fmin.parquet exists and force_overwrite = False\n",
      ">>> Skipping experiment bilat_silenc_combo100Hz_zorro_rattle_clavicle because results/example/bilat_silenc_combo100Hz_zorro_rattle_clavicle.parquet exists and force_overwrite = False\n",
      ">>> Skipping experiment bilat_silenc_combo100Hz_zorro_rattle_g2n because results/example/bilat_silenc_combo100Hz_zorro_rattle_g2n.parquet exists and force_overwrite = False\n",
      ">>> Skipping experiment bilat_silenc_combo100Hz_zorro_fmin_clavicle because results/example/bilat_silenc_combo100Hz_zorro_fmin_clavicle.parquet exists and force_overwrite = False\n",
      ">>> Skipping experiment bilat_silenc_combo100Hz_zorro_fmin_g2n because results/example/bilat_silenc_combo100Hz_zorro_fmin_g2n.parquet exists and force_overwrite = False\n",
      ">>> Skipping experiment bilat_silenc_combo100Hz_zorro_clavicle_g2n because results/example/bilat_silenc_combo100Hz_zorro_clavicle_g2n.parquet exists and force_overwrite = False\n",
      ">>> Skipping experiment bilat_silenc_combo100Hz_rattle_fmin_clavicle because results/example/bilat_silenc_combo100Hz_rattle_fmin_clavicle.parquet exists and force_overwrite = False\n",
      ">>> Skipping experiment bilat_silenc_combo100Hz_rattle_fmin_g2n because results/example/bilat_silenc_combo100Hz_rattle_fmin_g2n.parquet exists and force_overwrite = False\n",
      ">>> Skipping experiment bilat_silenc_combo100Hz_rattle_clavicle_g2n because results/example/bilat_silenc_combo100Hz_rattle_clavicle_g2n.parquet exists and force_overwrite = False\n",
      ">>> Skipping experiment bilat_silenc_combo100Hz_fmin_clavicle_g2n because results/example/bilat_silenc_combo100Hz_fmin_clavicle_g2n.parquet exists and force_overwrite = False\n"
     ]
    }
   ],
   "source": [
    "# Set params and run simulation\n",
    "\n",
    "neurons_to_activate = neu_sugar_L\n",
    "neurons_to_silence = triplets_2Ns\n",
    "silencing_names = triplets_2Ns_names\n",
    "\n",
    "for stim_rate in [50, 100]:\n",
    "    \n",
    "    params['r_poi'] = stim_rate * Hz\n",
    "    prefix = 'bilat_silenc_combo' + str(stim_rate) + 'Hz_'\n",
    "    ctrl_filename = './results/example/sugarR_' + str(stim_rate) + 'Hz.parquet' # this is GRN activation only\n",
    "    savepath = 'results/' + str(stim_rate) + 'Hz bilat silencing combo3/'\n",
    "    \n",
    "    run_simulation_silencing(params, neurons_to_activate, neurons_to_silence, neurons_to_record, silencing_names, record_names, prefix, ctrl_filename, savepath)    "
   ]
  },
  {
   "cell_type": "markdown",
   "metadata": {},
   "source": [
    "## Silence all possible sets of four or five 2Ns (excitatory 2Ns only)."
   ]
  },
  {
   "cell_type": "code",
   "execution_count": 18,
   "metadata": {},
   "outputs": [],
   "source": [
    "# make list of sets of 4 second-order neurons, bilaterally\n",
    "\n",
    "# make list of neurons\n",
    "quads_2Ns_L = list(combinations(ids_2N_exc_L, 4))\n",
    "quads_2Ns_R = list(combinations(ids_2N_exc_R, 4))\n",
    "\n",
    "quads_2Ns = []\n",
    "for entry in quads_2Ns_L: # go through L list\n",
    "    ind = quads_2Ns_L.index(entry) # get index\n",
    "    entry2 = quads_2Ns_R[ind] # find same element in R list\n",
    "    quads_2Ns.append(list(entry + entry2))\n",
    "    \n",
    "# make list of names\n",
    "quads_2Ns_names_list = list(combinations(names_2N_exc,4))\n",
    "quads_2Ns_names = []\n",
    "for entry in quads_2Ns_names_list:\n",
    "    quads_2Ns_names.append('_'.join(entry))\n",
    "\n",
    "    \n",
    "# add condition with all 5 silenced\n",
    "neurons_to_silence = quads_2Ns\n",
    "neurons_to_silence.append(ids_2N_exc_L + ids_2N_exc_R)\n",
    "\n",
    "silencing_names = quads_2Ns_names\n",
    "silencing_names.append('_'.join(names_2N_exc))"
   ]
  },
  {
   "cell_type": "code",
   "execution_count": 19,
   "metadata": {
    "scrolled": false
   },
   "outputs": [
    {
     "name": "stdout",
     "output_type": "stream",
     "text": [
      ">>> Skipping experiment bilat_silenc_combo50Hz_zorro_rattle_fmin_clavicle because results/example/bilat_silenc_combo50Hz_zorro_rattle_fmin_clavicle.parquet exists and force_overwrite = False\n",
      ">>> Skipping experiment bilat_silenc_combo50Hz_zorro_rattle_fmin_g2n because results/example/bilat_silenc_combo50Hz_zorro_rattle_fmin_g2n.parquet exists and force_overwrite = False\n",
      ">>> Skipping experiment bilat_silenc_combo50Hz_zorro_rattle_clavicle_g2n because results/example/bilat_silenc_combo50Hz_zorro_rattle_clavicle_g2n.parquet exists and force_overwrite = False\n",
      ">>> Skipping experiment bilat_silenc_combo50Hz_zorro_fmin_clavicle_g2n because results/example/bilat_silenc_combo50Hz_zorro_fmin_clavicle_g2n.parquet exists and force_overwrite = False\n",
      ">>> Skipping experiment bilat_silenc_combo50Hz_rattle_fmin_clavicle_g2n because results/example/bilat_silenc_combo50Hz_rattle_fmin_clavicle_g2n.parquet exists and force_overwrite = False\n",
      ">>> Skipping experiment bilat_silenc_combo50Hz_zorro_rattle_fmin_clavicle_g2n because results/example/bilat_silenc_combo50Hz_zorro_rattle_fmin_clavicle_g2n.parquet exists and force_overwrite = False\n",
      ">>> Skipping experiment bilat_silenc_combo100Hz_zorro_rattle_fmin_clavicle because results/example/bilat_silenc_combo100Hz_zorro_rattle_fmin_clavicle.parquet exists and force_overwrite = False\n",
      ">>> Skipping experiment bilat_silenc_combo100Hz_zorro_rattle_fmin_g2n because results/example/bilat_silenc_combo100Hz_zorro_rattle_fmin_g2n.parquet exists and force_overwrite = False\n",
      ">>> Skipping experiment bilat_silenc_combo100Hz_zorro_rattle_clavicle_g2n because results/example/bilat_silenc_combo100Hz_zorro_rattle_clavicle_g2n.parquet exists and force_overwrite = False\n",
      ">>> Skipping experiment bilat_silenc_combo100Hz_zorro_fmin_clavicle_g2n because results/example/bilat_silenc_combo100Hz_zorro_fmin_clavicle_g2n.parquet exists and force_overwrite = False\n",
      ">>> Skipping experiment bilat_silenc_combo100Hz_rattle_fmin_clavicle_g2n because results/example/bilat_silenc_combo100Hz_rattle_fmin_clavicle_g2n.parquet exists and force_overwrite = False\n",
      ">>> Skipping experiment bilat_silenc_combo100Hz_zorro_rattle_fmin_clavicle_g2n because results/example/bilat_silenc_combo100Hz_zorro_rattle_fmin_clavicle_g2n.parquet exists and force_overwrite = False\n"
     ]
    }
   ],
   "source": [
    "# Set params and run simulation\n",
    "\n",
    "neurons_to_activate = neu_sugar_L\n",
    "\n",
    "for stim_rate in [50, 100]:\n",
    "    \n",
    "    params['r_poi'] = stim_rate * Hz\n",
    "    prefix = 'bilat_silenc_combo' + str(stim_rate) + 'Hz_'\n",
    "    ctrl_filename = './results/example/sugarR_' + str(stim_rate) + 'Hz.parquet' # this is GRN activation only\n",
    "    savepath = 'results/' + str(stim_rate) + 'Hz bilat silencing combo4/'\n",
    "    \n",
    "    run_simulation_silencing(params, neurons_to_activate, neurons_to_silence, neurons_to_record, silencing_names, record_names, prefix, ctrl_filename, savepath)    "
   ]
  },
  {
   "cell_type": "code",
   "execution_count": null,
   "metadata": {},
   "outputs": [],
   "source": []
  }
 ],
 "metadata": {
  "kernelspec": {
   "display_name": "Python 3 (ipykernel)",
   "language": "python",
   "name": "python3"
  },
  "language_info": {
   "codemirror_mode": {
    "name": "ipython",
    "version": 3
   },
   "file_extension": ".py",
   "mimetype": "text/x-python",
   "name": "python",
   "nbconvert_exporter": "python",
   "pygments_lexer": "ipython3",
   "version": "3.10.13"
  }
 },
 "nbformat": 4,
 "nbformat_minor": 4
}
